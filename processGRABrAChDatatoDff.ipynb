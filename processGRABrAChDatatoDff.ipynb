{
 "cells": [
  {
   "cell_type": "code",
   "execution_count": 1,
   "metadata": {
    "collapsed": false
   },
   "outputs": [
    {
     "ename": "ModuleNotFoundError",
     "evalue": "No module named 'tifffile'",
     "output_type": "error",
     "traceback": [
      "\u001b[0;31m---------------------------------------------------------------------------\u001b[0m",
      "\u001b[0;31mModuleNotFoundError\u001b[0m                       Traceback (most recent call last)",
      "\u001b[0;32m<ipython-input-1-6b287deebd47>\u001b[0m in \u001b[0;36m<module>\u001b[0;34m\u001b[0m\n\u001b[1;32m      1\u001b[0m \u001b[0;32mimport\u001b[0m \u001b[0mnumpy\u001b[0m \u001b[0;32mas\u001b[0m \u001b[0mnp\u001b[0m\u001b[0;34m\u001b[0m\u001b[0;34m\u001b[0m\u001b[0m\n\u001b[0;32m----> 2\u001b[0;31m \u001b[0;32mimport\u001b[0m \u001b[0mtifffile\u001b[0m \u001b[0;32mas\u001b[0m \u001b[0mtiff\u001b[0m\u001b[0;34m\u001b[0m\u001b[0;34m\u001b[0m\u001b[0m\n\u001b[0m\u001b[1;32m      3\u001b[0m \u001b[0;32mfrom\u001b[0m \u001b[0mscipy\u001b[0m\u001b[0;34m.\u001b[0m\u001b[0mndimage\u001b[0m \u001b[0;32mimport\u001b[0m \u001b[0mgaussian_filter\u001b[0m\u001b[0;34m\u001b[0m\u001b[0;34m\u001b[0m\u001b[0m\n\u001b[1;32m      4\u001b[0m \u001b[0;32mfrom\u001b[0m \u001b[0mmultiprocessing\u001b[0m \u001b[0;32mimport\u001b[0m \u001b[0mPool\u001b[0m\u001b[0;34m,\u001b[0m \u001b[0mcpu_count\u001b[0m\u001b[0;34m\u001b[0m\u001b[0;34m\u001b[0m\u001b[0m\n\u001b[1;32m      5\u001b[0m \u001b[0;32mimport\u001b[0m \u001b[0mos\u001b[0m\u001b[0;34m\u001b[0m\u001b[0;34m\u001b[0m\u001b[0m\n",
      "\u001b[0;31mModuleNotFoundError\u001b[0m: No module named 'tifffile'"
     ]
    }
   ],
   "source": [
    "import numpy as np\n",
    "import tifffile as tiff\n",
    "from scipy.ndimage import gaussian_filter\n",
    "from multiprocessing import Pool, cpu_count\n",
    "import os\n",
    "from tqdm import tqdm "
   ]
  },
  {
   "cell_type": "code",
   "execution_count": null,
   "metadata": {
    "collapsed": true
   },
   "outputs": [],
   "source": [
    "# For df/f processing function for each frame\n",
    "def process_frame(frame_idx, F0):\n",
    "    frame = image_data[frame_idx]\n",
    "    smoothed_frame = gaussian_filter(frame, sigma=sigma)\n",
    "    normalized_frame = frame / smoothed_frame\n",
    "    deltaF = normalized_frame - F0\n",
    "    deltaF_over_F0 = deltaF / F0\n",
    "    return deltaF_over_F0"
   ]
  },
  {
   "cell_type": "code",
   "execution_count": null,
   "metadata": {
    "collapsed": true
   },
   "outputs": [],
   "source": [
    "# load red output into python \n",
    "input_path = \"/Users/johnmarshall/Documents/Analysis/SPRT_analysis/imagingData/SPRT_m1_d5_11_15_48_43/d5_11_15_48_43_red.tiff\"\n",
    "image_data = tiff.imread(input_path )"
   ]
  },
  {
   "cell_type": "code",
   "execution_count": null,
   "metadata": {
    "collapsed": true
   },
   "outputs": [],
   "source": [
    "image_data.shape"
   ]
  },
  {
   "cell_type": "code",
   "execution_count": null,
   "metadata": {
    "collapsed": true
   },
   "outputs": [],
   "source": [
    "image_data.dtype"
   ]
  },
  {
   "cell_type": "code",
   "execution_count": null,
   "metadata": {
    "collapsed": true
   },
   "outputs": [],
   "source": [
    "# Parameters\n",
    "pixel_size_microns = 2.5\n",
    "smoothing_scale_microns = 100\n",
    "sigma = smoothing_scale_microns / (pixel_size_microns * 2.355)  # Adjusted sigma\n",
    "print(f\"Gaussian filter sigma: {sigma:.2f}\")"
   ]
  },
  {
   "cell_type": "code",
   "execution_count": null,
   "metadata": {
    "collapsed": true
   },
   "outputs": [],
   "source": [
    "num_workers = cpu_count()  # Number of CPU cores for multiprocessing\n",
    "\n",
    "# Load TIFF file\n",
    "print(f\"Image shape: {image_data.shape}, dtype: {image_data.dtype}\")\n",
    "\n",
    "# Compute F0 (mean across time for each pixel)\n",
    "print(\"Computing F0 (time-averaged fluorescence)...\")\n",
    "F0 = np.mean(image_data, axis=0)"
   ]
  },
  {
   "cell_type": "code",
   "execution_count": null,
   "metadata": {
    "collapsed": true
   },
   "outputs": [],
   "source": [
    "# Define subset range\n",
    "frame_start = 0  # Start frame index\n",
    "frame_end = 1000  # End frame index (exclusive)\n",
    "output_path = \"/Users/johnmarshall/Documents/Analysis/SPRT_analysis/imagingData/SPRT_m1_d5_11_15_48_43/d5_11_15_48_43_red.tiff\"\n",
    "# Save the result as a multipage TIFF file\n",
    "subset_data = image_data[frame_start:frame_end]\n",
    "\n",
    "result_list = []\n",
    "for frame_idx in tqdm(range(subset_data.shape[0]), desc=\"Processing frames\"):\n",
    "    result_list.append(process_frame(frame_idx))\n",
    "\n",
    "# Convert result to a 3D numpy array\n",
    "result_array = np.stack(result_list, axis=0)"
   ]
  },
  {
   "cell_type": "code",
   "execution_count": null,
   "metadata": {
    "collapsed": true
   },
   "outputs": [],
   "source": [
    "# Save the result as a multipage TIFF file\n",
    "print(f\"Saving result to {output_path}...\")\n",
    "tiff.imwrite(output_path, result_array.astype(np.float32), photometric='minisblack')"
   ]
  },
  {
   "cell_type": "code",
   "execution_count": null,
   "metadata": {
    "collapsed": true
   },
   "outputs": [],
   "source": [
    "# Perform the analysis using multiprocessing\n",
    "print(\"Performing ΔF(t)/F0 analysis...\")\n",
    "with Pool(num_workers) as pool:\n",
    "    result = pool.map(process_frame, range(image_data.shape[0]))\n",
    "\n",
    "# Convert result to a 3D numpy array\n",
    "result_array = np.stack(result, axis=0)\n",
    "\n",
    "# Save the result as a multipage TIFF file\n",
    "print(f\"Saving result to {output_path}...\")\n",
    "tiff.imwrite(output_path, result_array.astype(np.float32), photometric='minisblack')\n",
    "\n",
    "print(\"Analysis completed and file saved.\")"
   ]
  },
  {
   "cell_type": "code",
   "execution_count": null,
   "metadata": {
    "collapsed": true
   },
   "outputs": [],
   "source": []
  }
 ],
 "metadata": {
  "kernelspec": {
   "display_name": "jupyter_env",
   "language": "python",
   "name": "jupyter_env"
  },
  "language_info": {
   "codemirror_mode": {
    "name": "ipython",
    "version": 3
   },
   "file_extension": ".py",
   "mimetype": "text/x-python",
   "name": "python",
   "nbconvert_exporter": "python",
   "pygments_lexer": "ipython3",
   "version": "3.8.6"
  }
 },
 "nbformat": 4,
 "nbformat_minor": 5
}
