{
 "cells": [
  {
   "cell_type": "code",
   "execution_count": null,
   "id": "64895f10-5d25-485b-8b01-df3485679e1b",
   "metadata": {},
   "outputs": [],
   "source": [
    "import numpy as np\n",
    "import tifffile as tiff\n",
    "from scipy.ndimage import gaussian_filter\n",
    "from multiprocessing import Pool, cpu_count\n",
    "import os\n",
    "from tqdm import tqdm "
   ]
  },
  {
   "cell_type": "code",
   "execution_count": null,
   "id": "d4a2440e-c51d-4cc7-948f-6519cb378b60",
   "metadata": {},
   "outputs": [],
   "source": [
    "# For df/f processing function for each frame\n",
    "def process_frame(frame_idx, F0):\n",
    "    frame = image_data[frame_idx]\n",
    "    smoothed_frame = gaussian_filter(frame, sigma=sigma)\n",
    "    normalized_frame = frame / smoothed_frame\n",
    "    deltaF = normalized_frame - F0\n",
    "    deltaF_over_F0 = deltaF / F0\n",
    "    return deltaF_over_F0"
   ]
  },
  {
   "cell_type": "code",
   "execution_count": null,
   "id": "1c833959-d836-4bd1-9037-77badc3101aa",
   "metadata": {},
   "outputs": [],
   "source": [
    "# load red output into python \n",
    "input_path = \"/Users/johnmarshall/Documents/Analysis/SPRT_analysis/imagingData/SPRT_m1_d5_11_15_48_43/d5_11_15_48_43_red.tiff\"\n",
    "image_data = tiff.imread(input_path )"
   ]
  },
  {
   "cell_type": "code",
   "execution_count": null,
   "id": "9693ca48-fc45-43bb-b0ae-2f8649ea8e6c",
   "metadata": {},
   "outputs": [],
   "source": [
    "image_data.shape"
   ]
  },
  {
   "cell_type": "code",
   "execution_count": null,
   "id": "4c6c755b-66a6-4e4b-a3bc-e5d3363d26c8",
   "metadata": {},
   "outputs": [],
   "source": [
    "image_data.dtype"
   ]
  },
  {
   "cell_type": "code",
   "execution_count": null,
   "id": "d3b5cb83-153e-42ca-82b4-9398aabcf850",
   "metadata": {},
   "outputs": [],
   "source": [
    "# Parameters\n",
    "pixel_size_microns = 2.5\n",
    "smoothing_scale_microns = 100\n",
    "sigma = smoothing_scale_microns / (pixel_size_microns * 2.355)  # Adjusted sigma\n",
    "print(f\"Gaussian filter sigma: {sigma:.2f}\")"
   ]
  },
  {
   "cell_type": "code",
   "execution_count": null,
   "id": "83aa0126-fff4-441c-af39-9a792589d263",
   "metadata": {},
   "outputs": [],
   "source": [
    "num_workers = cpu_count()  # Number of CPU cores for multiprocessing\n",
    "\n",
    "# Load TIFF file\n",
    "print(f\"Image shape: {image_data.shape}, dtype: {image_data.dtype}\")\n",
    "\n",
    "# Compute F0 (mean across time for each pixel)\n",
    "print(\"Computing F0 (time-averaged fluorescence)...\")\n",
    "F0 = np.mean(image_data, axis=0)"
   ]
  },
  {
   "cell_type": "code",
   "execution_count": null,
   "id": "6da1982b-fd2a-44ff-adc3-20726b5689e7",
   "metadata": {},
   "outputs": [],
   "source": [
    "# Define subset range\n",
    "frame_start = 0  # Start frame index\n",
    "frame_end = 1000  # End frame index (exclusive)\n",
    "output_path = \"/Users/johnmarshall/Documents/Analysis/SPRT_analysis/imagingData/SPRT_m1_d5_11_15_48_43/d5_11_15_48_43_red.tiff\"\n",
    "# Save the result as a multipage TIFF file\n",
    "subset_data = image_data[frame_start:frame_end]\n",
    "\n",
    "result_list = []\n",
    "for frame_idx in tqdm(range(subset_data.shape[0]), desc=\"Processing frames\"):\n",
    "    result_list.append(process_frame(frame_idx))\n",
    "\n",
    "# Convert result to a 3D numpy array\n",
    "result_array = np.stack(result_list, axis=0)"
   ]
  },
  {
   "cell_type": "code",
   "execution_count": null,
   "id": "54879160-8486-4690-93ff-c55e218cbaf9",
   "metadata": {},
   "outputs": [],
   "source": [
    "# Save the result as a multipage TIFF file\n",
    "print(f\"Saving result to {output_path}...\")\n",
    "tiff.imwrite(output_path, result_array.astype(np.float32), photometric='minisblack')"
   ]
  },
  {
   "cell_type": "code",
   "execution_count": null,
   "id": "db805336-892b-4184-b7cf-84fd983e5e46",
   "metadata": {},
   "outputs": [],
   "source": [
    "# Perform the analysis using multiprocessing\n",
    "print(\"Performing ΔF(t)/F0 analysis...\")\n",
    "with Pool(num_workers) as pool:\n",
    "    result = pool.map(process_frame, range(image_data.shape[0]))\n",
    "\n",
    "# Convert result to a 3D numpy array\n",
    "result_array = np.stack(result, axis=0)\n",
    "\n",
    "# Save the result as a multipage TIFF file\n",
    "print(f\"Saving result to {output_path}...\")\n",
    "tiff.imwrite(output_path, result_array.astype(np.float32), photometric='minisblack')\n",
    "\n",
    "print(\"Analysis completed and file saved.\")"
   ]
  },
  {
   "cell_type": "code",
   "execution_count": null,
   "id": "5e94806b-af93-41e3-a69c-131a96c3d0c3",
   "metadata": {},
   "outputs": [],
   "source": []
  }
 ],
 "metadata": {
  "kernelspec": {
   "display_name": "Python 3 (ipykernel)",
   "language": "python",
   "name": "python3"
  },
  "language_info": {
   "codemirror_mode": {
    "name": "ipython",
    "version": 3
   },
   "file_extension": ".py",
   "mimetype": "text/x-python",
   "name": "python",
   "nbconvert_exporter": "python",
   "pygments_lexer": "ipython3",
   "version": "3.12.2"
  }
 },
 "nbformat": 4,
 "nbformat_minor": 5
}
