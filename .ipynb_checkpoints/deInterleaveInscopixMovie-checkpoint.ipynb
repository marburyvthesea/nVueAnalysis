{
 "cells": [
  {
   "cell_type": "code",
   "execution_count": 1,
   "metadata": {
    "collapsed": true
   },
   "outputs": [],
   "source": [
    "import h5py\n",
    "import numpy as np"
   ]
  },
  {
   "cell_type": "code",
   "execution_count": 2,
   "metadata": {
    "collapsed": true
   },
   "outputs": [],
   "source": [
    "# Define file names and dataset name\n",
    "dirPath = '/scratch/jma819/scope_data/SPRT/m1_GRAB_analysis/'\n",
    "input_file = 'concat_inscopix-1_2024-11-13-15-49-43_video_multiplexing_trig_0.h5'\n",
    "dataset_name = '/1'\n",
    "output_file_ch1 = '2024-11-13-15-49-43_channel1.h5'\n",
    "output_file_ch2 = '2024-11-13-15-49-43_channel2.h5'"
   ]
  },
  {
   "cell_type": "code",
   "execution_count": 3,
   "metadata": {
    "collapsed": true
   },
   "outputs": [],
   "source": [
    "# Define a chunk size for processing (tweak this based on your available RAM)\n",
    "chunk_size = 100  # number of frames to process per chunk"
   ]
  },
  {
   "cell_type": "code",
   "execution_count": 4,
   "metadata": {
    "collapsed": false
   },
   "outputs": [
    {
     "name": "stdout",
     "output_type": "stream",
     "text": [
      "Processed frames 0 to 100 (ch1: 50 frames, ch2: 50 frames)\n",
      "Processed frames 100 to 200 (ch1: 50 frames, ch2: 50 frames)\n",
      "Processed frames 200 to 300 (ch1: 50 frames, ch2: 50 frames)\n",
      "Processed frames 300 to 400 (ch1: 50 frames, ch2: 50 frames)\n",
      "Processed frames 400 to 500 (ch1: 50 frames, ch2: 50 frames)\n",
      "Processed frames 500 to 600 (ch1: 50 frames, ch2: 50 frames)\n",
      "Processed frames 600 to 700 (ch1: 50 frames, ch2: 50 frames)\n",
      "Processed frames 700 to 800 (ch1: 50 frames, ch2: 50 frames)\n",
      "Processed frames 800 to 900 (ch1: 50 frames, ch2: 50 frames)\n",
      "Processed frames 900 to 1000 (ch1: 50 frames, ch2: 50 frames)\n",
      "Processed frames 1000 to 1100 (ch1: 50 frames, ch2: 50 frames)\n",
      "Processed frames 1100 to 1200 (ch1: 50 frames, ch2: 50 frames)\n",
      "Processed frames 1200 to 1300 (ch1: 50 frames, ch2: 50 frames)\n",
      "Processed frames 1300 to 1400 (ch1: 50 frames, ch2: 50 frames)\n",
      "Processed frames 1400 to 1500 (ch1: 50 frames, ch2: 50 frames)\n",
      "Processed frames 1500 to 1600 (ch1: 50 frames, ch2: 50 frames)\n",
      "Processed frames 1600 to 1700 (ch1: 50 frames, ch2: 50 frames)\n",
      "Processed frames 1700 to 1800 (ch1: 50 frames, ch2: 50 frames)\n",
      "Processed frames 1800 to 1900 (ch1: 50 frames, ch2: 50 frames)\n",
      "Processed frames 1900 to 2000 (ch1: 50 frames, ch2: 50 frames)\n",
      "Processed frames 2000 to 2100 (ch1: 50 frames, ch2: 50 frames)\n",
      "Processed frames 2100 to 2200 (ch1: 50 frames, ch2: 50 frames)\n",
      "Processed frames 2200 to 2300 (ch1: 50 frames, ch2: 50 frames)\n",
      "Processed frames 2300 to 2400 (ch1: 50 frames, ch2: 50 frames)\n",
      "Processed frames 2400 to 2500 (ch1: 50 frames, ch2: 50 frames)\n",
      "Processed frames 2500 to 2600 (ch1: 50 frames, ch2: 50 frames)\n",
      "Processed frames 2600 to 2700 (ch1: 50 frames, ch2: 50 frames)\n",
      "Processed frames 2700 to 2800 (ch1: 50 frames, ch2: 50 frames)\n",
      "Processed frames 2800 to 2900 (ch1: 50 frames, ch2: 50 frames)\n",
      "Processed frames 2900 to 3000 (ch1: 50 frames, ch2: 50 frames)\n",
      "Processed frames 3000 to 3100 (ch1: 50 frames, ch2: 50 frames)\n",
      "Processed frames 3100 to 3200 (ch1: 50 frames, ch2: 50 frames)\n",
      "Processed frames 3200 to 3300 (ch1: 50 frames, ch2: 50 frames)\n",
      "Processed frames 3300 to 3400 (ch1: 50 frames, ch2: 50 frames)\n",
      "Processed frames 3400 to 3500 (ch1: 50 frames, ch2: 50 frames)\n",
      "Processed frames 3500 to 3600 (ch1: 50 frames, ch2: 50 frames)\n",
      "Processed frames 3600 to 3700 (ch1: 50 frames, ch2: 50 frames)\n",
      "Processed frames 3700 to 3800 (ch1: 50 frames, ch2: 50 frames)\n",
      "Processed frames 3800 to 3900 (ch1: 50 frames, ch2: 50 frames)\n",
      "Processed frames 3900 to 4000 (ch1: 50 frames, ch2: 50 frames)\n",
      "Processed frames 4000 to 4100 (ch1: 50 frames, ch2: 50 frames)\n",
      "Processed frames 4100 to 4200 (ch1: 50 frames, ch2: 50 frames)\n",
      "Processed frames 4200 to 4300 (ch1: 50 frames, ch2: 50 frames)\n",
      "Processed frames 4300 to 4400 (ch1: 50 frames, ch2: 50 frames)\n",
      "Processed frames 4400 to 4500 (ch1: 50 frames, ch2: 50 frames)\n",
      "Processed frames 4500 to 4600 (ch1: 50 frames, ch2: 50 frames)\n",
      "Processed frames 4600 to 4700 (ch1: 50 frames, ch2: 50 frames)\n",
      "Processed frames 4700 to 4800 (ch1: 50 frames, ch2: 50 frames)\n",
      "Processed frames 4800 to 4900 (ch1: 50 frames, ch2: 50 frames)\n",
      "Processed frames 4900 to 5000 (ch1: 50 frames, ch2: 50 frames)\n",
      "Processed frames 5000 to 5100 (ch1: 50 frames, ch2: 50 frames)\n",
      "Processed frames 5100 to 5200 (ch1: 50 frames, ch2: 50 frames)\n",
      "Processed frames 5200 to 5300 (ch1: 50 frames, ch2: 50 frames)\n",
      "Processed frames 5300 to 5400 (ch1: 50 frames, ch2: 50 frames)\n",
      "Processed frames 5400 to 5500 (ch1: 50 frames, ch2: 50 frames)\n",
      "Processed frames 5500 to 5600 (ch1: 50 frames, ch2: 50 frames)\n",
      "Processed frames 5600 to 5700 (ch1: 50 frames, ch2: 50 frames)\n",
      "Processed frames 5700 to 5800 (ch1: 50 frames, ch2: 50 frames)\n",
      "Processed frames 5800 to 5900 (ch1: 50 frames, ch2: 50 frames)\n",
      "Processed frames 5900 to 6000 (ch1: 50 frames, ch2: 50 frames)\n",
      "Processed frames 6000 to 6100 (ch1: 50 frames, ch2: 50 frames)\n",
      "Processed frames 6100 to 6200 (ch1: 50 frames, ch2: 50 frames)\n",
      "Processed frames 6200 to 6300 (ch1: 50 frames, ch2: 50 frames)\n",
      "Processed frames 6300 to 6400 (ch1: 50 frames, ch2: 50 frames)\n",
      "Processed frames 6400 to 6407 (ch1: 4 frames, ch2: 3 frames)\n",
      "Deinterleaving complete. Two files have been created for channel 1 and channel 2.\n"
     ]
    }
   ],
   "source": [
    "# Open the original file in read-only mode\n",
    "with h5py.File(dirPath+input_file, 'r') as f_in:\n",
    "    dset = f_in[dataset_name]\n",
    "    total_frames, height, width = dset.shape\n",
    "    # Determine the number of frames for each channel.\n",
    "    # Even-numbered frames (0,2,4,...) go to channel 1.\n",
    "    # Odd-numbered frames (1,3,5,...) go to channel 2.\n",
    "    nframes_ch1 = total_frames // 2 + total_frames % 2\n",
    "    nframes_ch2 = total_frames // 2\n",
    "    # Create output files and datasets for each channel.\n",
    "    with h5py.File(dirPath+output_file_ch1, 'w') as f_ch1, h5py.File(dirPath+output_file_ch2, 'w') as f_ch2:\n",
    "        # Create datasets with the appropriate shape and same dtype\n",
    "        dset_ch1 = f_ch1.create_dataset('data', shape=(nframes_ch1, height, width), dtype=dset.dtype, chunks=True)\n",
    "        dset_ch2 = f_ch2.create_dataset('data', shape=(nframes_ch2, height, width), dtype=dset.dtype, chunks=True)      \n",
    "        # Initialize write indices for each channel\n",
    "        idx_ch1 = 0\n",
    "        idx_ch2 = 0\n",
    "        # Process the dataset in chunks along the first dimension\n",
    "        for start in range(0, total_frames, chunk_size):\n",
    "            end = min(start + chunk_size, total_frames)\n",
    "            # Read a chunk from the original dataset\n",
    "            chunk = dset[start:end, :, :]            \n",
    "            # Deinterleave the frames:\n",
    "            # Channel 1 gets even-indexed frames within the chunk\n",
    "            ch1_chunk = chunk[0:(end - start):2]\n",
    "            # Channel 2 gets odd-indexed frames within the chunk\n",
    "            ch2_chunk = chunk[1:(end - start):2]\n",
    "            # Write the chunks to the corresponding datasets\n",
    "            n_ch1 = ch1_chunk.shape[0]\n",
    "            n_ch2 = ch2_chunk.shape[0]\n",
    "            dset_ch1[idx_ch1:idx_ch1+n_ch1, :, :] = ch1_chunk\n",
    "            dset_ch2[idx_ch2:idx_ch2+n_ch2, :, :] = ch2_chunk \n",
    "            # Update indices for next write position\n",
    "            idx_ch1 += n_ch1\n",
    "            idx_ch2 += n_ch2  \n",
    "            print(f\"Processed frames {start} to {end} (ch1: {n_ch1} frames, ch2: {n_ch2} frames)\")\n",
    "print(\"Deinterleaving complete. Two files have been created for channel 1 and channel 2.\")"
   ]
  },
  {
   "cell_type": "code",
   "execution_count": null,
   "metadata": {
    "collapsed": true
   },
   "outputs": [],
   "source": []
  }
 ],
 "metadata": {
  "kernelspec": {
   "display_name": "jupyter_env",
   "language": "python",
   "name": "jupyter_env"
  },
  "language_info": {
   "codemirror_mode": {
    "name": "ipython",
    "version": 3
   },
   "file_extension": ".py",
   "mimetype": "text/x-python",
   "name": "python",
   "nbconvert_exporter": "python",
   "pygments_lexer": "ipython3",
   "version": "3.8.6"
  }
 },
 "nbformat": 4,
 "nbformat_minor": 5
}
