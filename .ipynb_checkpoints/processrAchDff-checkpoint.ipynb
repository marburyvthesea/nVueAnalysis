{
 "cells": [
  {
   "cell_type": "code",
   "execution_count": null,
   "id": "ac725803-be3f-40b8-959d-6bce862b239c",
   "metadata": {},
   "outputs": [],
   "source": [
    "import numpy as np\n",
    "import tifffile as tiff\n",
    "import dask.array as da\n",
    "from dask_image.imread import imread\n",
    "import matplotlib.pyplot as plt\n",
    "import cv2\n",
    "import pandas as pd\n",
    "import sys\n",
    "sys.path.append(r'/Users/johnmarshall/Documents/Analysis/post_cnmfe_analysis')\n",
    "import python_utils_jjm as utils_jjm"
   ]
  },
  {
   "cell_type": "code",
   "execution_count": null,
   "id": "48a9cb42-3567-4125-a475-083d7c3136a1",
   "metadata": {},
   "outputs": [],
   "source": [
    "def calculate_baseline(intensity_array, window_size):\n",
    "    padded_array = np.pad(intensity_array, (window_size // 2,), mode='edge')  # Pad edges\n",
    "    baseline = np.convolve(padded_array, np.ones(window_size) / window_size, mode='same')\n",
    "    # Trim the excess padding to match the original array length\n",
    "    start_idx = window_size // 2\n",
    "    end_idx = -(window_size // 2) if window_size % 2 == 0 else -(window_size // 2) - 1\n",
    "    return baseline[start_idx:end_idx]"
   ]
  },
  {
   "cell_type": "code",
   "execution_count": null,
   "id": "3be65e11-27f0-4081-b7f3-ecb249f69fb9",
   "metadata": {},
   "outputs": [],
   "source": [
    "# File path\n",
    "input_path = \"/Users/johnmarshall/Documents/Analysis/SPRT_analysis/imagingData/SPRT_m1_d5_11_15_59_02/d5_11_15_59_02_red_dff_over_min.tiff\"\n",
    "\n",
    "# Load the TIFF file\n",
    "with tiff.TiffFile(input_path) as tif:\n",
    "    n_frames = len(tif.pages)\n",
    "    print(f\"Number of frames: {n_frames}\")\n",
    "    # Lazily load the TIFF file as a Dask array\n",
    "    dff_movie = da.from_array(tif.asarray(), chunks=(100, 800, 1280))  # Adjust chunk size as needed\n"
   ]
  },
  {
   "cell_type": "code",
   "execution_count": null,
   "id": "2cd41869-4518-4831-b735-a2d5e3f0428b",
   "metadata": {},
   "outputs": [],
   "source": [
    "print(dff_movie.shape, dff_movie.dtype)"
   ]
  },
  {
   "cell_type": "code",
   "execution_count": null,
   "id": "491d6607-1edc-41ab-ab82-f1cd45f10214",
   "metadata": {},
   "outputs": [],
   "source": [
    "# Calculate the average intensity of all pixels for each frame\n",
    "print(\"Calculating average intensity across all frames...\")\n",
    "average_intensity = dff_movie.mean(axis=(1, 2)).compute()  # Average over height and width"
   ]
  },
  {
   "cell_type": "code",
   "execution_count": null,
   "id": "850f03ac-9862-479c-b1a5-4fe3a6b2a870",
   "metadata": {},
   "outputs": [],
   "source": [
    "average_intensity"
   ]
  },
  {
   "cell_type": "code",
   "execution_count": null,
   "id": "df37c5b4-ef3a-47ea-840f-d0e5c89daf62",
   "metadata": {},
   "outputs": [],
   "source": [
    "average_intensity_df = pd.DataFrame(average_intensity)\n",
    "average_intensity_df.to_csv('/Users/johnmarshall/Documents/Analysis/SPRT_analysis/imagingData/SPRT_m1_d5_11_15_59_02/red_average_intensity.csv')"
   ]
  },
  {
   "cell_type": "code",
   "execution_count": null,
   "id": "b3195235-6d31-4a39-a33c-81b8678c7bec",
   "metadata": {
    "scrolled": true
   },
   "outputs": [],
   "source": [
    "# Plot the average intensity\n",
    "plt.figure(figsize=(10, 6))\n",
    "plt.plot(average_intensity, label=\"Average Intensity\")\n",
    "plt.title(\"Average Pixel Intensity Across Frames\")\n",
    "plt.xlabel(\"Frame\")\n",
    "plt.ylabel(\"Average Intensity\")\n",
    "plt.grid()\n",
    "plt.legend()\n",
    "plt.show()"
   ]
  },
  {
   "cell_type": "code",
   "execution_count": null,
   "id": "11e7c160-04bf-4037-a179-33f209bb675b",
   "metadata": {},
   "outputs": [],
   "source": [
    "window_size = 10\n",
    "# Recalculate the baseline\n",
    "baseline = calculate_baseline(average_intensity, window_size)\n",
    "\n",
    "# Verify the shapes\n",
    "print(f\"Shape of average_intensity: {average_intensity.shape}\")\n",
    "print(f\"Shape of baseline: {baseline.shape}\")\n",
    "\n",
    "# Normalize each frame's intensity to its baseline\n",
    "normalized_intensity = average_intensity / baseline\n",
    "\n",
    "# Reshape the result back to (1, N)\n",
    "normalized_intensity_reshaped_ = normalized_intensity.reshape(1, -1)\n",
    "normalized_intensity_reshaped = pd.DataFrame(normalized_intensity_reshaped_[0])\n",
    "# present data as z-score\n",
    "mean = np.mean(normalized_intensity_reshaped[0].values)\n",
    "std = np.std(normalized_intensity_reshaped[0].values)\n",
    "np.shape(normalized_intensity_reshaped[0].values)\n",
    "# Compute Z-scores\n",
    "z_scores = (normalized_intensity_reshaped[0].values - mean) / std\n",
    "normalized_intensity_reshaped = pd.DataFrame(z_scores)\n",
    "normalized_intensity_reshaped.head()"
   ]
  },
  {
   "cell_type": "code",
   "execution_count": null,
   "id": "b2545b9a-21e2-471a-a05a-36d7af26d952",
   "metadata": {},
   "outputs": [],
   "source": [
    "# Plot the average intensity\n",
    "plt.figure(figsize=(10, 6))\n",
    "plt.plot(normalized_intensity_reshaped, label=\"Average Intensity\")\n",
    "plt.title(\"normalized_intensity_reshaped Intensity Across Frames\")\n",
    "plt.xlabel(\"Frame\")\n",
    "plt.ylabel(\"Average Intensity\")\n",
    "plt.grid()\n",
    "plt.legend()\n",
    "plt.show()"
   ]
  },
  {
   "cell_type": "code",
   "execution_count": null,
   "id": "8752281a-5e26-4098-8918-7e8834841cb9",
   "metadata": {},
   "outputs": [],
   "source": [
    "## create a timedelta dataframe to downsample \n",
    "interval_seconds=0.1\n",
    "timedelta_index = pd.to_timedelta(np.arange(0, len(normalized_intensity_reshaped))* interval_seconds, unit='s')"
   ]
  },
  {
   "cell_type": "code",
   "execution_count": null,
   "id": "3a8338f2-02fa-47f9-a029-1260f68fe816",
   "metadata": {},
   "outputs": [],
   "source": [
    "fluorescence_df = normalized_intensity_reshaped.copy()\n",
    "fluorescence_df['time'] = timedelta_index  # Add a time column for reference\n",
    "fluorescence_df.set_index('time', inplace=True)"
   ]
  },
  {
   "cell_type": "code",
   "execution_count": null,
   "id": "a89afd91-8638-4358-a890-55285456c10f",
   "metadata": {},
   "outputs": [],
   "source": [
    "fluorescence_df.head()"
   ]
  },
  {
   "cell_type": "code",
   "execution_count": null,
   "id": "5971a543-928e-4af7-83ec-0368c41becec",
   "metadata": {},
   "outputs": [],
   "source": [
    "fluorescence_df.to_csv('/Users/johnmarshall/Documents/Analysis/SPRT_analysis/imagingData/SPRT_m1_d5_11_15_59_02/red_Dff_averageNormalizedZScore.csv')"
   ]
  },
  {
   "cell_type": "code",
   "execution_count": null,
   "id": "c242ae64-4ec8-41b8-92bf-74e1c60d2a96",
   "metadata": {},
   "outputs": [],
   "source": [
    "new_sampling_interval = .2\n",
    "downsampled_df = fluorescence_df.resample(str(new_sampling_interval)+'S').max() \n",
    "downsampled_df.reset_index(inplace=True, drop=True)\n",
    "downsampled_df.head()"
   ]
  },
  {
   "cell_type": "code",
   "execution_count": null,
   "id": "55cb8b93-f39e-44f5-b36e-cff0db4e2d63",
   "metadata": {},
   "outputs": [],
   "source": [
    "downsampled_df.to_csv('/Users/johnmarshall/Documents/Analysis/SPRT_analysis/imagingData/SPRT_m1_d5_11_15_59_02/red_Dff_averageNormalizedDownsampledZScore.csv')"
   ]
  },
  {
   "cell_type": "code",
   "execution_count": null,
   "id": "72aa91f9-7e92-42e2-bc24-cfb246063490",
   "metadata": {},
   "outputs": [],
   "source": [
    "#average_intensity_df.to_csv('/Users/johnmarshall/Documents/Analysis/SPRT_analysis/imagingData/red_Dff_average.csv')"
   ]
  },
  {
   "cell_type": "code",
   "execution_count": null,
   "id": "d3ac3854-aa28-43eb-a0ed-890e540d4e76",
   "metadata": {},
   "outputs": [],
   "source": []
  }
 ],
 "metadata": {
  "kernelspec": {
   "display_name": "Python (nVueAnalysis)",
   "language": "python",
   "name": "nvueanalysis"
  },
  "language_info": {
   "codemirror_mode": {
    "name": "ipython",
    "version": 3
   },
   "file_extension": ".py",
   "mimetype": "text/x-python",
   "name": "python",
   "nbconvert_exporter": "python",
   "pygments_lexer": "ipython3",
   "version": "3.9.18"
  }
 },
 "nbformat": 4,
 "nbformat_minor": 5
}
