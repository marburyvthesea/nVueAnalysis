{
 "cells": [
  {
   "cell_type": "code",
   "execution_count": 7,
   "metadata": {
    "collapsed": false
   },
   "outputs": [],
   "source": [
    "import h5py\n",
    "import numpy as np\n",
    "import os \n",
    "import imageio"
   ]
  },
  {
   "cell_type": "code",
   "execution_count": 8,
   "metadata": {
    "collapsed": true
   },
   "outputs": [],
   "source": [
    "dirPath = '/scratch/jma819/scope_data/SPRT/m1_GRAB_analysis/'\n",
    "filePath = '2024-11-12-15-23-47_channel1.h5'\n",
    "output_avi = dirPath+'2024-11-12-15-23-47_channel1.avi'     # output AVI filename\n",
    "fps = 20"
   ]
  },
  {
   "cell_type": "code",
   "execution_count": 9,
   "metadata": {
    "collapsed": false
   },
   "outputs": [
    {
     "name": "stdout",
     "output_type": "stream",
     "text": [
      "Dataset shape: (3204, 1280, 800)\n",
      "Saved 3204 frames to /scratch/jma819/scope_data/SPRT/m1_GRAB_analysis/2024-11-12-15-23-47_channel1.avi as an uncompressed AVI.\n"
     ]
    }
   ],
   "source": [
    "# Open the HDF5 file and read dataset shape\n",
    "with h5py.File(dirPath + filePath, 'r') as f_in:\n",
    "    dset = f_in['data']\n",
    "    total_frames, height, width = dset.shape\n",
    "    print(\"Dataset shape:\", dset.shape)\n",
    "\n",
    "    # Create an imageio writer; codec \"rawvideo\" should give you an uncompressed output\n",
    "    writer = imageio.get_writer(output_avi, fps=fps, codec='rawvideo')\n",
    "    \n",
    "    for i in range(total_frames):\n",
    "        frame = dset[i, :, :]\n",
    "        # If the frame is not uint8, scale it appropriately.\n",
    "        if frame.dtype != np.uint8:\n",
    "            frame = ((frame - frame.min()) / (frame.max() - frame.min()) * 255).astype(np.uint8)\n",
    "        writer.append_data(frame)\n",
    "    writer.close()\n",
    "\n",
    "print(f\"Saved {total_frames} frames to {output_avi} as an uncompressed AVI.\")\n"
   ]
  },
  {
   "cell_type": "code",
   "execution_count": null,
   "metadata": {
    "collapsed": true
   },
   "outputs": [],
   "source": []
  }
 ],
 "metadata": {
  "kernelspec": {
   "display_name": "h5py_imageio",
   "language": "python",
   "name": "my_new_env"
  },
  "language_info": {
   "codemirror_mode": {
    "name": "ipython",
    "version": 3
   },
   "file_extension": ".py",
   "mimetype": "text/x-python",
   "name": "python",
   "nbconvert_exporter": "python",
   "pygments_lexer": "ipython3",
   "version": "3.13.2"
  }
 },
 "nbformat": 4,
 "nbformat_minor": 2
}
