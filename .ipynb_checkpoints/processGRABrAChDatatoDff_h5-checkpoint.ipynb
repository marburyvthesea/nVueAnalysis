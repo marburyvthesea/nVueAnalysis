{
 "cells": [
  {
   "cell_type": "code",
   "execution_count": 2,
   "metadata": {
    "collapsed": true
   },
   "outputs": [],
   "source": [
    "import h5py\n",
    "import numpy as np\n",
    "import matplotlib.pyplot as plt\n",
    "import os \n",
    "import pandas as pd"
   ]
  },
  {
   "cell_type": "code",
   "execution_count": 3,
   "metadata": {
    "collapsed": true
   },
   "outputs": [],
   "source": [
    "def compute_minimum_image(input_file, dataset_name, chunk_size=100):\n",
    "    \"\"\"\n",
    "    Compute the baseline image for a movie stored in an HDF5 file.\n",
    "    The baseline is defined as the minimum intensity for each pixel across all frames.\n",
    "    Parameters:\n",
    "        input_file (str): Path to the input HDF5 file.\n",
    "        dataset_name (str): Name of the dataset (e.g., 'data').\n",
    "        chunk_size (int): Number of frames to process per iteration.    \n",
    "    Returns:\n",
    "        np.ndarray: A 2D array (height x width) containing the minimum intensity for each pixel.\n",
    "    \"\"\"\n",
    "    with h5py.File(input_file, 'r') as f:\n",
    "        dset = f[dataset_name]\n",
    "        nframes, height, width = dset.shape\n",
    "        # Initialize baseline with a very high value\n",
    "        baseline = np.full((height, width), np.inf, dtype=dset.dtype)\n",
    "        \n",
    "        for start in range(0, nframes, chunk_size):\n",
    "            end = min(start + chunk_size, nframes)\n",
    "            chunk = dset[start:end, :, :]\n",
    "            # Compute the minimum across the frames in this chunk for each pixel\n",
    "            chunk_min = np.min(chunk, axis=0)\n",
    "            baseline = np.minimum(baseline, chunk_min)\n",
    "            print(f\"Computed minimum for frames {start} to {end}\")\n",
    "    \n",
    "    return baseline\n",
    "\n",
    "\n",
    "def subtract_baseline_movie(input_file, dataset_name, baseline, output_file, chunk_size=100):\n",
    "    \"\"\"\n",
    "    Subtract the baseline image from each frame of the movie stored in an HDF5 file,\n",
    "    and write the baseline-subtracted movie to a new file.\n",
    "\n",
    "    Parameters:\n",
    "        input_file (str): Path to the input HDF5 file.\n",
    "        dataset_name (str): Name of the dataset (e.g., 'data').\n",
    "        baseline (np.ndarray): The baseline image computed by compute_minimum_image.\n",
    "        output_file (str): Path to the output HDF5 file.\n",
    "        chunk_size (int): Number of frames to process per iteration.\n",
    "    \"\"\"\n",
    "    # Open the input file to get the movie shape and dataset dtype\n",
    "    with h5py.File(input_file, 'r') as f:\n",
    "        dset = f[dataset_name]\n",
    "        nframes, height, width = dset.shape\n",
    "        dataset_dtype = dset.dtype  # Save the dtype while the file is open\n",
    "\n",
    "    # Create the output file and dataset for the baseline-subtracted movie\n",
    "    with h5py.File(output_file, 'w') as f_out:\n",
    "        out_dset = f_out.create_dataset('data',\n",
    "                                        shape=(nframes, height, width),\n",
    "                                        dtype=dataset_dtype,\n",
    "                                        chunks=True)\n",
    "        # Re-open input file to process data in chunks\n",
    "        with h5py.File(input_file, 'r') as f:\n",
    "            dset = f[dataset_name]\n",
    "            for start in range(0, nframes, chunk_size):\n",
    "                end = min(start + chunk_size, nframes)\n",
    "                chunk = dset[start:end, :, :]\n",
    "                # Subtract the baseline using broadcasting\n",
    "                subtracted_chunk = chunk - baseline\n",
    "                out_dset[start:end, :, :] = subtracted_chunk\n",
    "                print(f\"Processed baseline subtraction for frames {start} to {end}\")\n",
    "\n",
    "def compute_average_intensity(input_file, dataset_name='data', chunk_size=100):\n",
    "    \"\"\"\n",
    "    Compute the average intensity for each frame of a baseline-subtracted movie.\n",
    "    \n",
    "    Parameters:\n",
    "        input_file (str): Path to the HDF5 file containing the movie.\n",
    "        dataset_name (str): Name of the dataset (default is 'data').\n",
    "        chunk_size (int): Number of frames to process per iteration.\n",
    "    \n",
    "    Returns:\n",
    "        np.ndarray: A (n_frames, 1) array where each element is the average intensity\n",
    "                    across all pixels of the corresponding frame.\n",
    "    \"\"\"\n",
    "    with h5py.File(input_file, 'r') as f:\n",
    "        dset = f[dataset_name]\n",
    "        nframes, height, width = dset.shape\n",
    "        # Initialize an output array to hold the average intensity per frame.\n",
    "        avg_intensities = np.empty((nframes, 1), dtype=np.float64)\n",
    "        \n",
    "        # Process the movie in chunks\n",
    "        for start in range(0, nframes, chunk_size):\n",
    "            end = min(start + chunk_size, nframes)\n",
    "            chunk = dset[start:end, :, :]\n",
    "            # Calculate the average intensity for each frame in the chunk.\n",
    "            # np.mean returns an array of shape (number_of_frames_in_chunk,)\n",
    "            avg_chunk = np.mean(chunk, axis=(1, 2))\n",
    "            avg_intensities[start:end, 0] = avg_chunk\n",
    "            print(f\"Processed average intensity for frames {start} to {end}\")\n",
    "    \n",
    "    return avg_intensities\n",
    "\n",
    "def split_h5_file_by_frames(input_file, dataset_name, dirPathOut, output_prefix, chunk_size=100):\n",
    "    \"\"\"\n",
    "    Split an HDF5 file containing a movie (frames, height, width) into smaller HDF5 files,\n",
    "    each containing 'chunk_size' frames.\n",
    "\n",
    "    The output filenames will be constructed as:\n",
    "        {output_prefix}_{frameStart}_{frameEnd}.h5\n",
    "    where frameStart and frameEnd (inclusive) are the indices of the frames in that chunk.\n",
    "\n",
    "    Parameters:\n",
    "        input_file (str): Path to the input HDF5 file.\n",
    "        dataset_name (str): Name of the dataset (e.g., 'data') containing the movie.\n",
    "        dirPathOut (str): Directory where the output HDF5 files will be saved.\n",
    "        output_prefix (str): String to prepend to each output filename.\n",
    "        chunk_size (int): Number of frames per output file.\n",
    "\n",
    "    Returns:\n",
    "        list: A list of the generated output file names.\n",
    "    \"\"\"\n",
    "    output_files = []\n",
    "    \n",
    "    # Ensure the output directory exists\n",
    "    os.makedirs(dirPathOut, exist_ok=True)\n",
    "    \n",
    "    with h5py.File(input_file, 'r') as f_in:\n",
    "        dset = f_in[dataset_name]\n",
    "        nframes, height, width = dset.shape\n",
    "        \n",
    "        # Process the dataset in chunks along the frame axis\n",
    "        for start in range(0, nframes, chunk_size):\n",
    "            end = min(start + chunk_size, nframes)  # end is exclusive\n",
    "            # Read the chunk of frames\n",
    "            chunk = dset[start:end, :, :]\n",
    "            \n",
    "            # Construct output file name (frameEnd is inclusive, so subtract 1)\n",
    "            filename = f\"{output_prefix}_{start}_{end-1}.h5\"\n",
    "            out_filename = os.path.join(dirPathOut, filename)\n",
    "            output_files.append(out_filename)\n",
    "            \n",
    "            # Save the current chunk to a new HDF5 file\n",
    "            with h5py.File(out_filename, 'w') as f_out:\n",
    "                f_out.create_dataset('data', data=chunk, dtype=dset.dtype)\n",
    "            \n",
    "            print(f\"Saved frames {start} to {end-1} in file: {dirPathOut} {out_filename}\")\n",
    "        \n",
    "    return output_files"
   ]
  },
  {
   "cell_type": "code",
   "execution_count": null,
   "metadata": {
    "collapsed": true
   },
   "outputs": [],
   "source": [
    "# load red output into python \n",
    "dirPath = '/scratch/jma819/scope_data/SPRT/m1_GRAB_analysis/'\n",
    "filePath = '2024-11-14-15-21-35_channel2.h5'"
   ]
  },
  {
   "cell_type": "code",
   "execution_count": null,
   "metadata": {
    "collapsed": false
   },
   "outputs": [],
   "source": [
    "with h5py.File(dirPath + filePath, 'r') as f_in:\n",
    "    dset = f_in['data']\n",
    "    total_frames, height, width = dset.shape\n",
    "    print(\"Dataset shape:\", dset.shape)\n",
    "    first_frame = dset[0, :, :]  # accessing the first frame"
   ]
  },
  {
   "cell_type": "code",
   "execution_count": null,
   "metadata": {
    "collapsed": false
   },
   "outputs": [],
   "source": [
    "# Display the first frame using matplotlib\n",
    "plt.figure(figsize=(6, 6))\n",
    "plt.imshow(first_frame, cmap='gray')\n",
    "plt.title(\"First Frame\")\n",
    "plt.colorbar()\n",
    "plt.show()"
   ]
  },
  {
   "cell_type": "code",
   "execution_count": null,
   "metadata": {
    "collapsed": false
   },
   "outputs": [],
   "source": [
    "baseline = compute_minimum_image(dirPath + filePath, 'data', chunk_size=100)"
   ]
  },
  {
   "cell_type": "code",
   "execution_count": null,
   "metadata": {
    "collapsed": false
   },
   "outputs": [],
   "source": [
    "baseline"
   ]
  },
  {
   "cell_type": "code",
   "execution_count": null,
   "metadata": {
    "collapsed": false
   },
   "outputs": [],
   "source": [
    "dff_file = '2024-11-14-15-21-35_channel2_dff_min.h5'\n",
    "subtract_baseline_movie(dirPath + filePath, 'data', baseline, dirPath + dff_file, chunk_size=100)"
   ]
  },
  {
   "cell_type": "code",
   "execution_count": 4,
   "metadata": {
    "collapsed": false
   },
   "outputs": [
    {
     "name": "stdout",
     "output_type": "stream",
     "text": [
      "Processed average intensity for frames 0 to 100\n",
      "Processed average intensity for frames 100 to 200\n",
      "Processed average intensity for frames 200 to 300\n",
      "Processed average intensity for frames 300 to 400\n",
      "Processed average intensity for frames 400 to 500\n",
      "Processed average intensity for frames 500 to 600\n",
      "Processed average intensity for frames 600 to 700\n",
      "Processed average intensity for frames 700 to 800\n",
      "Processed average intensity for frames 800 to 900\n",
      "Processed average intensity for frames 900 to 1000\n",
      "Processed average intensity for frames 1000 to 1100\n",
      "Processed average intensity for frames 1100 to 1200\n",
      "Processed average intensity for frames 1200 to 1300\n",
      "Processed average intensity for frames 1300 to 1400\n",
      "Processed average intensity for frames 1400 to 1500\n",
      "Processed average intensity for frames 1500 to 1600\n",
      "Processed average intensity for frames 1600 to 1700\n",
      "Processed average intensity for frames 1700 to 1800\n",
      "Processed average intensity for frames 1800 to 1900\n",
      "Processed average intensity for frames 1900 to 2000\n",
      "Processed average intensity for frames 2000 to 2100\n",
      "Processed average intensity for frames 2100 to 2200\n",
      "Processed average intensity for frames 2200 to 2300\n",
      "Processed average intensity for frames 2300 to 2400\n",
      "Processed average intensity for frames 2400 to 2500\n",
      "Processed average intensity for frames 2500 to 2600\n",
      "Processed average intensity for frames 2600 to 2700\n",
      "Processed average intensity for frames 2700 to 2800\n",
      "Processed average intensity for frames 2800 to 2900\n",
      "Processed average intensity for frames 2900 to 3000\n",
      "Processed average intensity for frames 3000 to 3100\n",
      "Processed average intensity for frames 3100 to 3200\n",
      "Processed average intensity for frames 3200 to 3204\n"
     ]
    }
   ],
   "source": [
    "dff_file = '2024-11-14-15-21-35_channel2_dff_min.h5'\n",
    "avg_intensity_array = compute_average_intensity(dirPath + dff_file, dataset_name='data', chunk_size=100)"
   ]
  },
  {
   "cell_type": "code",
   "execution_count": 5,
   "metadata": {
    "collapsed": false
   },
   "outputs": [
    {
     "data": {
      "image/png": "[encoded data removed]",
      "text/plain": [
       "<Figure size 432x288 with 1 Axes>"
      ]
     },
     "metadata": {
      "needs_background": "light"
     },
     "output_type": "display_data"
    }
   ],
   "source": [
    "dirPath = '/scratch/jma819/scope_data/SPRT/m1_GRAB_analysis/'\n",
    "fOut = '2024-11-14-15-21-35_channel2_dff_min.csv'\n",
    "df = pd.DataFrame(avg_intensity_array, columns=[\"avg_intensity\"])  # adjust column names if needed\n",
    "df.to_csv(dirPath+fOut, index=False)\n",
    "plt.plot(avg_intensity_array)\n",
    "plt.show()"
   ]
  },
  {
   "cell_type": "code",
   "execution_count": null,
   "metadata": {
    "collapsed": false
   },
   "outputs": [],
   "source": [
    "#save smaller h5 files for viewing \n",
    "dataset_name = 'data'  # Adjust if your dataset is named differently\n",
    "dirPathOut = '/scratch/jma819/scope_data/SPRT/m1_GRAB_analysis/2024-11-14-15-21-35_channel2_dff_min/'\n",
    "output_prefix = '2024-11-14-15-21-35_channel2_dff_min'  # Change this to your desired prefix (or \"regularExpression\" variable)\n",
    "chunk_size = 500  # For example, save 50 frames per file\n",
    "# Call the function to split the input file\n",
    "generated_files = split_h5_file_by_frames(os.path.join(dirPath, dff_file), dataset_name, dirPathOut, output_prefix, chunk_size)"
   ]
  },
  {
   "cell_type": "code",
   "execution_count": null,
   "metadata": {
    "collapsed": true
   },
   "outputs": [],
   "source": [
    "# Parameters\n",
    "pixel_size_microns = 2.5\n",
    "smoothing_scale_microns = 100\n",
    "sigma = smoothing_scale_microns / (pixel_size_microns * 2.355)  # Adjusted sigma\n",
    "print(f\"Gaussian filter sigma: {sigma:.2f}\")"
   ]
  },
  {
   "cell_type": "code",
   "execution_count": null,
   "metadata": {
    "collapsed": true
   },
   "outputs": [],
   "source": [
    "num_workers = cpu_count()  # Number of CPU cores for multiprocessing\n",
    "\n",
    "# Load TIFF file\n",
    "print(f\"Image shape: {image_data.shape}, dtype: {image_data.dtype}\")\n",
    "\n",
    "# Compute F0 (mean across time for each pixel)\n",
    "print(\"Computing F0 (time-averaged fluorescence)...\")\n",
    "F0 = np.mean(image_data, axis=0)"
   ]
  },
  {
   "cell_type": "code",
   "execution_count": null,
   "metadata": {
    "collapsed": true
   },
   "outputs": [],
   "source": [
    "# Define subset range\n",
    "frame_start = 0  # Start frame index\n",
    "frame_end = 1000  # End frame index (exclusive)\n",
    "output_path = \"/Users/johnmarshall/Documents/Analysis/SPRT_analysis/imagingData/SPRT_m1_d5_11_15_48_43/d5_11_15_48_43_red.tiff\"\n",
    "# Save the result as a multipage TIFF file\n",
    "subset_data = image_data[frame_start:frame_end]\n",
    "\n",
    "result_list = []\n",
    "for frame_idx in tqdm(range(subset_data.shape[0]), desc=\"Processing frames\"):\n",
    "    result_list.append(process_frame(frame_idx))\n",
    "\n",
    "# Convert result to a 3D numpy array\n",
    "result_array = np.stack(result_list, axis=0)"
   ]
  },
  {
   "cell_type": "code",
   "execution_count": null,
   "metadata": {
    "collapsed": true
   },
   "outputs": [],
   "source": [
    "# Save the result as a multipage TIFF file\n",
    "print(f\"Saving result to {output_path}...\")\n",
    "tiff.imwrite(output_path, result_array.astype(np.float32), photometric='minisblack')"
   ]
  },
  {
   "cell_type": "code",
   "execution_count": null,
   "metadata": {
    "collapsed": true
   },
   "outputs": [],
   "source": [
    "# Perform the analysis using multiprocessing\n",
    "print(\"Performing ΔF(t)/F0 analysis...\")\n",
    "with Pool(num_workers) as pool:\n",
    "    result = pool.map(process_frame, range(image_data.shape[0]))\n",
    "\n",
    "# Convert result to a 3D numpy array\n",
    "result_array = np.stack(result, axis=0)\n",
    "\n",
    "# Save the result as a multipage TIFF file\n",
    "print(f\"Saving result to {output_path}...\")\n",
    "tiff.imwrite(output_path, result_array.astype(np.float32), photometric='minisblack')\n",
    "\n",
    "print(\"Analysis completed and file saved.\")"
   ]
  },
  {
   "cell_type": "code",
   "execution_count": null,
   "metadata": {
    "collapsed": true
   },
   "outputs": [],
   "source": []
  }
 ],
 "metadata": {
  "kernelspec": {
   "display_name": "jupyter_env",
   "language": "python",
   "name": "jupyter_env"
  },
  "language_info": {
   "codemirror_mode": {
    "name": "ipython",
    "version": 3
   },
   "file_extension": ".py",
   "mimetype": "text/x-python",
   "name": "python",
   "nbconvert_exporter": "python",
   "pygments_lexer": "ipython3",
   "version": "3.8.6"
  }
 },
 "nbformat": 4,
 "nbformat_minor": 5
}
